{
 "cells": [
  {
   "cell_type": "markdown",
   "id": "ca7a9f8c",
   "metadata": {},
   "source": [
    "# Trabajo Unidad 2: Técnicas avanzadas de programación\n",
    "\n",
    "- Autor: Felipe E. Espinoza Vidal\n",
    "- Afiliación: Universidad Tecnológica Metropolitana\n",
    "- Repositorio Github: https://github.com/fespinozav/TAP\n",
    "\n",
    "El objetivo de este trabajo es aplicar los conceptos aprendidos durante la Segunda Unidad. Cada\n",
    "estudiante deberá realizar el trabajo de manera individual.\n",
    "El trabajo consta de tres partes:"
   ]
  },
  {
   "cell_type": "markdown",
   "id": "c9f02af6",
   "metadata": {},
   "source": [
    "## 1.1.1 Pipeline en Nextflow\n",
    "\n",
    "Programar un pipeline utilizando el gestor de workflows Nextflow. El pipeline deberá incluir los\n",
    "siguientes archivos: main.nf, nextflow.config, y los scripts necesarios para cada proceso.\n",
    "nextflow.config: Este archivo de configuración deberá tener como mínimo la declaración de perfiles\n",
    "local y HPC.\n"
   ]
  },
  {
   "cell_type": "markdown",
   "id": "f9ed4022",
   "metadata": {},
   "source": [
    "- Descripción del proyecto\n",
    "\n",
    "A continuación se muestra la estrucutra del proyecto, el cual se obtuve haciendo el comando tree. Se puede observar dentro de esta estructura que dentro de la carpeta data/data es donde se descargan los archivos que posteriormente serán analizados por el proceso.\n",
    "\n",
    "```\n",
    ".\n",
    "├── bin\n",
    "├── data\n",
    "│   └── data\n",
    "│       ├── GCA_000007385.1_ASM738v1_genomic.fna\n",
    "│       ├── GCA_000008525.1_ASM852v1_genomic.fna\n",
    "│       ├── GCA_000013525.1_ASM1352v1_genomic.fna\n",
    "│       ├── GCA_000014305.1_ASM1430v1_genomic.fna\n",
    "│       └── GCA_000014325.1_ASM1432v1_genomic.fna\n",
    "├── Informe.ipynb\n",
    "├── main.nf\n",
    "├── nextflow.config\n",
    "├── parser.py\n",
    "├── README.md\n",
    "└── scripts\n",
    "    ├── check_pyspark.sh\n",
    "    ├── describe_fasta.sh\n",
    "    ├── download_data.sh\n",
    "    └── regex_pyspark.py\n",
    "\n",
    "5 directories, 14 files\n",
    "\n",
    "```"
   ]
  },
  {
   "cell_type": "markdown",
   "id": "a00f1d96",
   "metadata": {},
   "source": [
    "- Diagrama de flujo\n",
    "\n",
    "![flowchart.png](flowchart.png)"
   ]
  },
  {
   "cell_type": "markdown",
   "id": "8c8f1564",
   "metadata": {},
   "source": [
    "- Descripción del hardware:\n",
    "\n",
    "Este workflow fue desarrollado en un Apple Macbook Pro M2 Pro (ARM) de 16 GB de Ram y el hardware usado donde se encuentran los archivos fueron disponibilizados por el profesor y se e cuentran en el servidor faraday de la Universidad Tecnológica Metropolitana. \n",
    "\n",
    "Se puede ver mas información sobre el cluster faraday en el siguiente link: https://investigacion.utem.cl/red-de-laboratorios/cluster-faraday-utem/tutoriales/"
   ]
  },
  {
   "cell_type": "markdown",
   "id": "89576791",
   "metadata": {},
   "source": [
    "### Descripción de las versiones de los softwares, lenguajes y librerias usadas:\n",
    "\n",
    "- Nextflow versión 24.06.06\n",
    "- Python 3.12.5\n",
    "- Pyspark 4.0.0\n",
    "- Java OpenJDK11\n",
    "- matplotlib 3.10.3\n",
    "\n",
    "\n",
    "\n"
   ]
  },
  {
   "cell_type": "markdown",
   "id": "c516bba1",
   "metadata": {},
   "source": [
    "### Sistema operativo en que se desarrollo.\n",
    "\n",
    "- MmacOs Sequoia Version 15.5"
   ]
  },
  {
   "cell_type": "markdown",
   "id": "352873d4",
   "metadata": {},
   "source": [
    "### Instrucciones de uso.\n",
    "\n",
    "1.\tClonar este repositorio y entrar al directorio:\n",
    "\n",
    "git clone https://github.com/fespinozav/TAP.git\n",
    "cd TAP\n",
    "\n",
    "2.\tPreparar el entorno Python (recomendado en un virtualenv o Conda):\n",
    "python3 -m venv .venv\n",
    "source .venv/bin/activate\n",
    "pip install pyspark pandas matplotlib\n",
    "\n",
    "3.\tVerifica la instalación de Nextflow y Java:\n",
    "nextflow -v\n",
    "java -version\n",
    "\n",
    "### Configuración\n",
    "-\tparams.data_dir (en main.nf): directorio donde se guardan los FASTA descargados (por defecto data/).\n",
    "-\tparams.kmer: la cadena k-mer a buscar (por defecto \"GC\").\n",
    "-\tparams.results: carpeta de salida para resúmenes y gráficos (por defecto results/).\n",
    "\n",
    "### Ejecución\n",
    "\n",
    "nextflow run main.nf -profile local\n",
    "\n",
    "### Resultados\n",
    "```\n",
    "results/\n",
    "├── summary.txt             # Resumen de cada FASTA (nº secuencias, longitud, %GC)\n",
    "├── regex_summary.txt       # Conteo de k-mer por archivo\n",
    "├── pyspark_check.log       # Salida de la verificación de PySpark\n",
    "└── plots/\n",
    "    ├── num_sequences.png   # Gráfico de nº de secuencias\n",
    "    ├── total_length.png    # Gráfico de longitud total\n",
    "    ├── gc_content.png      # Gráfico de contenido GC\n",
    "    └── regex_counts.png    # Gráfico de conteo de k-mer\n",
    "```\n",
    "\n",
    "### Importante ⚠️\n",
    "\n",
    " Notas finales\n",
    "\t•\tAsegúrarse de tener acceso SSH al clúster para que download_data.sh funcione (te pedirá passphrase).\n",
    "\t•\tSi cambias scripts o parámetros, usa la opción -resume para reutilizar resultados cacheados.\n",
    "\t•\tPara problemas con PySpark, revisa results/pyspark_check.log."
   ]
  },
  {
   "cell_type": "markdown",
   "id": "b5240c0f",
   "metadata": {},
   "source": [
    "## Resultados generados\n"
   ]
  },
  {
   "cell_type": "markdown",
   "id": "2e01a14e",
   "metadata": {},
   "source": [
    "\n",
    "### Archivo regex_summary.txt:\n",
    "-\tfile_idx\n",
    "El nombre del archivo FASTA que se procesó (el ensamblaje completo de cada genoma).\n",
    "-\tmatch_count\n",
    "El número de veces que el k-mer (en tu caso \"GC\") apareció en la secuencia de ese FASTA.\n",
    "\n",
    "| file_idx                                  | match_count   |\n",
    "|-------------------------------------------|---------------|\n",
    "| GCA_000007385.1_ASM738v1_genomic.fna      | 653919        |\n",
    "| GCA_000008525.1_ASM852v1_genomic.fna      | 98439         |\n",
    "| GCA_000013525.1_ASM1352v1_genomic.fna     | 82862         |\n",
    "| GCA_000014305.1_ASM1430v1_genomic.fna     | 94517         |\n",
    "| GCA_000014325.1_ASM1432v1_genomic.fna.    | 94515         |\n",
    "\n"
   ]
  },
  {
   "cell_type": "markdown",
   "id": "1ab63cab",
   "metadata": {},
   "source": [
    "### Resultado summary.txt\n",
    "\n",
    "- file : Nombre del archivo FASTA analizado. Cada uno contiene el ensamblaje completo de un genoma.\n",
    "- num_seq : Número de secuencias o contigs en el archivo. Aquí vale 1 para todos, porque cada FASTA es un único contig o cromosoma completo.\n",
    "- total_len : Longitud total en pares de bases (bp). Equivale a la suma de todas las longitudes de secuencia en el fichero FASTA. Por ejemplo, 4941439 significa que el ensamblaje mide aproximadamente 4.94 Mb.\n",
    "- gc_percent : Porcentaje de nucleótidos G + C sobre el total de pares de bases. Por ejemplo, el primer genoma tiene un 63.69 % de GC, mientras que los otros rondan el 38–41 %.\n",
    "\n",
    "\n",
    "\n",
    "\n",
    "| file\t                                | num_seq\t| total_len\t| gc_percent |\n",
    "| --------------------------------------|-----------|-----------|------------|\n",
    "| GCA_000007385.1_ASM738v1_genomic.fna\t| 1\t        |  4941439\t| 63.69     \n",
    "| GCA_000008525.1_ASM852v1_genomic.fna\t| 1\t        |  1667867\t| 38.87\n",
    "| GCA_000013525.1_ASM1352v1_genomic.fna\t| 1\t        |  1860355\t| 38.73\n",
    "| GCA_000014305.1_ASM1430v1_genomic.fna\t| 1\t        |  2096309\t| 41.11\n",
    "| GCA_000014325.1_ASM1432v1_genomic.fna\t| 1\t        |  2095698\t| 41.11"
   ]
  },
  {
   "cell_type": "markdown",
   "id": "b02068d8",
   "metadata": {},
   "source": [
    "### Graficos (plots)\n",
    "\n",
    "![Contenido_de_GC%](results/plots/results/plots/gc_content.png)\n",
    "\n",
    "![Número_de_sequencias](results/plots/results/plots/num_sequences.png)\n",
    "\n",
    "![Cuenta_de_Regex](results/plots/results/plots/regex_counts.png)\n",
    "\n",
    "![Largo_total](results/plots/results/plots/total_length.png)"
   ]
  },
  {
   "cell_type": "markdown",
   "id": "2aa62094",
   "metadata": {},
   "source": [
    "## Análisis de los resultados \n",
    "\n",
    "### gc_content.png\n",
    "\n",
    "Este gráfico de Contenido GC (%) resume la proporción de nucleótidos G + C en cada uno de tus cinco ensamblajes:\n",
    "\n",
    "1.\tGCA_000007385.1_ASM738v1 (~63.7 % GC)\n",
    "\t-\tSe sitúa muy por encima de los demás, con un marcado sesgo hacia GC.\n",
    "2.\tLos otros cuatro ensambles (~38.4 %–41.6 % GC)\n",
    "\t-\tGCA_000013525.1_ASM1352v1 (~38.4 %) es el más rico en AT, con el GC más bajo.\n",
    "\t-\tGCA_000008525.1_ASM852v1 (~40.9 %) y GCA_000014305.1_ASM1430v1 & GCA_000014325.1_ASM1432v1 (~41.6 %) caen todos dentro de un rango estrecho (39–42 %).\n",
    "\n",
    "\n",
    "### num_sequences.png\n",
    "\n",
    "El gráfico de Número de Secuencias te está confirmando que cada uno de los cinco archivos FASTA contiene exactamente 1 secuencia.\n",
    "\n",
    "### regex_counts.png\n",
    "\n",
    "Este gráfico muestra el conteo de nucleótidos “GC” (k-mer de tamaño 2) en cada uno de los ensamblajes.\n",
    "\n",
    "### total_lenght.png\n",
    "\n",
    "Este gráfico muestra la longitud total (en pares de bases) de cada uno de tus cinco genomas.\n",
    "\n",
    "-\tEl primer genoma (ASM738v1) duplica en tamaño al siguiente más grande y es casi 3× mayor que los más pequeños.\n",
    "-\tEsto sugiere que pertenece a una especie o cepa con un genoma significativamente más extenso.\n",
    "\n"
   ]
  }
 ],
 "metadata": {
  "kernelspec": {
   "display_name": "3.12.5",
   "language": "python",
   "name": "python3"
  },
  "language_info": {
   "codemirror_mode": {
    "name": "ipython",
    "version": 3
   },
   "file_extension": ".py",
   "mimetype": "text/x-python",
   "name": "python",
   "nbconvert_exporter": "python",
   "pygments_lexer": "ipython3",
   "version": "3.12.5"
  }
 },
 "nbformat": 4,
 "nbformat_minor": 5
}
